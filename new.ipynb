{
 "metadata": {
  "language_info": {
   "codemirror_mode": {
    "name": "ipython",
    "version": 3
   },
   "file_extension": ".py",
   "mimetype": "text/x-python",
   "name": "python",
   "nbconvert_exporter": "python",
   "pygments_lexer": "ipython3",
   "version": "3.8.6-final"
  },
  "orig_nbformat": 2,
  "kernelspec": {
   "name": "python3",
   "display_name": "Python 3"
  }
 },
 "nbformat": 4,
 "nbformat_minor": 2,
 "cells": [
  {
   "cell_type": "code",
   "execution_count": 1,
   "metadata": {},
   "outputs": [],
   "source": [
    "import pandas as pd"
   ]
  },
  {
   "cell_type": "code",
   "execution_count": 54,
   "metadata": {},
   "outputs": [
    {
     "output_type": "stream",
     "name": "stdout",
     "text": [
      "['ECE', 'ECE', 'MEC', 'MEC']\n"
     ]
    },
    {
     "output_type": "execute_result",
     "data": {
      "text/plain": [
       "   USN    Name degree  year  sem branch      contact\n",
       "0    1   Tejas     BE     3    5    ECE  93980169981\n",
       "1    2  Naveen     BE     3    5    ECE   8277438279\n",
       "2    3  Anupam     BE     3    5    MEC   7875797412\n",
       "3    4   Krish     BE     3    5    MEC   6532789241"
      ],
      "text/html": "<div>\n<style scoped>\n    .dataframe tbody tr th:only-of-type {\n        vertical-align: middle;\n    }\n\n    .dataframe tbody tr th {\n        vertical-align: top;\n    }\n\n    .dataframe thead th {\n        text-align: right;\n    }\n</style>\n<table border=\"1\" class=\"dataframe\">\n  <thead>\n    <tr style=\"text-align: right;\">\n      <th></th>\n      <th>USN</th>\n      <th>Name</th>\n      <th>degree</th>\n      <th>year</th>\n      <th>sem</th>\n      <th>branch</th>\n      <th>contact</th>\n    </tr>\n  </thead>\n  <tbody>\n    <tr>\n      <th>0</th>\n      <td>1</td>\n      <td>Tejas</td>\n      <td>BE</td>\n      <td>3</td>\n      <td>5</td>\n      <td>ECE</td>\n      <td>93980169981</td>\n    </tr>\n    <tr>\n      <th>1</th>\n      <td>2</td>\n      <td>Naveen</td>\n      <td>BE</td>\n      <td>3</td>\n      <td>5</td>\n      <td>ECE</td>\n      <td>8277438279</td>\n    </tr>\n    <tr>\n      <th>2</th>\n      <td>3</td>\n      <td>Anupam</td>\n      <td>BE</td>\n      <td>3</td>\n      <td>5</td>\n      <td>MEC</td>\n      <td>7875797412</td>\n    </tr>\n    <tr>\n      <th>3</th>\n      <td>4</td>\n      <td>Krish</td>\n      <td>BE</td>\n      <td>3</td>\n      <td>5</td>\n      <td>MEC</td>\n      <td>6532789241</td>\n    </tr>\n  </tbody>\n</table>\n</div>"
     },
     "metadata": {},
     "execution_count": 54
    }
   ],
   "source": [
    "import json\n",
    "j_string = '''[\n",
    "    {\n",
    "        \"id\":1,\n",
    "        \"name\":\"Tejas\",\n",
    "        \"degree\":\"BE\",\n",
    "        \"year\":3,\n",
    "        \"sem\":5,\n",
    "        \"contact\":93980169981,\n",
    "        \"Branch\":\"ECE\"\n",
    "    },\n",
    "    {\n",
    "        \"id\":2,\n",
    "        \"name\":\"Naveen\",\n",
    "        \"degree\":\"BE\",\n",
    "        \"year\":3,\n",
    "        \"sem\":5,\n",
    "        \"contact\":8277438279,\n",
    "        \"Branch\":\"ECE\"\n",
    "    },\n",
    "    {\n",
    "        \"id\":3,\n",
    "        \"name\":\"Anupam\",\n",
    "        \"degree\":\"BE\",\n",
    "        \"year\":3,\n",
    "        \"sem\":5,\n",
    "        \"contact\":7875797412,\n",
    "        \"Branch\":\"MEC\"\n",
    "    },\n",
    "    {\n",
    "        \"id\":4,\n",
    "        \"name\":\"Krish\",\n",
    "        \"degree\":\"BE\",\n",
    "        \"year\":3,\n",
    "        \"sem\":5,\n",
    "        \"contact\":6532789241,\n",
    "        \"Branch\":\"MEC\"\n",
    "    }\n",
    "]\n",
    "'''\n",
    "jss = json.loads(j_string)\n",
    "keys = []\n",
    "ids = []\n",
    "names = []\n",
    "degrees = []\n",
    "years = []\n",
    "sems = []\n",
    "contacts = []\n",
    "branches = []\n",
    "for js in jss:\n",
    "    for k in js.keys():\n",
    "        if k in keys:\n",
    "            continue\n",
    "        keys.append(k)\n",
    "    for k,v in js.items():\n",
    "        if k == 'id':\n",
    "            ids.append(v)\n",
    "        elif k == 'name':\n",
    "            names.append(v)\n",
    "        elif k == 'degree':\n",
    "            degrees.append(v)\n",
    "        elif k == 'year':\n",
    "            years.append(v)\n",
    "        elif k == 'sem':\n",
    "            sems.append(v)\n",
    "        elif k == 'contact':\n",
    "            contacts.append(v)\n",
    "        else:\n",
    "            branches.append(v)\n",
    "print(branches)\n",
    "data = pd.DataFrame({'id':ids,'name':names,'degree':degrees,'year':years,'sem':sems,'branch':branches,'contact':contacts})\n",
    "data = data.rename(columns={'id':'USN','name':'Name'}) "
   ]
  },
  {
   "cell_type": "code",
   "execution_count": 3,
   "metadata": {},
   "outputs": [
    {
     "output_type": "execute_result",
     "data": {
      "text/plain": [
       "details   USN    Name degree  year  sem branch      contact\n",
       "Students                                                   \n",
       "0           1   Tejas     BE     3    5    ECE  93980169981\n",
       "1           2  Naveen     BE     3    5    ECE   8277438279\n",
       "2           3  Anupam     BE     3    5    MEC   7875797412\n",
       "3           4   Krish     BE     3    5    MEC   6532789241"
      ],
      "text/html": "<div>\n<style scoped>\n    .dataframe tbody tr th:only-of-type {\n        vertical-align: middle;\n    }\n\n    .dataframe tbody tr th {\n        vertical-align: top;\n    }\n\n    .dataframe thead th {\n        text-align: right;\n    }\n</style>\n<table border=\"1\" class=\"dataframe\">\n  <thead>\n    <tr style=\"text-align: right;\">\n      <th>details</th>\n      <th>USN</th>\n      <th>Name</th>\n      <th>degree</th>\n      <th>year</th>\n      <th>sem</th>\n      <th>branch</th>\n      <th>contact</th>\n    </tr>\n    <tr>\n      <th>Students</th>\n      <th></th>\n      <th></th>\n      <th></th>\n      <th></th>\n      <th></th>\n      <th></th>\n      <th></th>\n    </tr>\n  </thead>\n  <tbody>\n    <tr>\n      <th>0</th>\n      <td>1</td>\n      <td>Tejas</td>\n      <td>BE</td>\n      <td>3</td>\n      <td>5</td>\n      <td>ECE</td>\n      <td>93980169981</td>\n    </tr>\n    <tr>\n      <th>1</th>\n      <td>2</td>\n      <td>Naveen</td>\n      <td>BE</td>\n      <td>3</td>\n      <td>5</td>\n      <td>ECE</td>\n      <td>8277438279</td>\n    </tr>\n    <tr>\n      <th>2</th>\n      <td>3</td>\n      <td>Anupam</td>\n      <td>BE</td>\n      <td>3</td>\n      <td>5</td>\n      <td>MEC</td>\n      <td>7875797412</td>\n    </tr>\n    <tr>\n      <th>3</th>\n      <td>4</td>\n      <td>Krish</td>\n      <td>BE</td>\n      <td>3</td>\n      <td>5</td>\n      <td>MEC</td>\n      <td>6532789241</td>\n    </tr>\n  </tbody>\n</table>\n</div>"
     },
     "metadata": {},
     "execution_count": 3
    }
   ],
   "source": [
    "data = data.rename_axis(\"Students\", axis='rows').rename_axis(\"details\", axis='columns')\n",
    "data"
   ]
  },
  {
   "cell_type": "code",
   "execution_count": 4,
   "metadata": {},
   "outputs": [],
   "source": [
    "data.to_csv(\"data.csv\")"
   ]
  },
  {
   "cell_type": "code",
   "execution_count": 5,
   "metadata": {},
   "outputs": [
    {
     "output_type": "execute_result",
     "data": {
      "text/plain": [
       "details   USN    Name degree  year  sem branch      contact\n",
       "Students                                                   \n",
       "0           1   Tejas     BE     3    5    ECE  93980169981\n",
       "1           2  Naveen     BE     3    5    ECE   8277438279\n",
       "2           3  Anupam     BE     3    5    MEC   7875797412\n",
       "3           4   Krish     BE     3    5    MEC   6532789241"
      ],
      "text/html": "<div>\n<style scoped>\n    .dataframe tbody tr th:only-of-type {\n        vertical-align: middle;\n    }\n\n    .dataframe tbody tr th {\n        vertical-align: top;\n    }\n\n    .dataframe thead th {\n        text-align: right;\n    }\n</style>\n<table border=\"1\" class=\"dataframe\">\n  <thead>\n    <tr style=\"text-align: right;\">\n      <th>details</th>\n      <th>USN</th>\n      <th>Name</th>\n      <th>degree</th>\n      <th>year</th>\n      <th>sem</th>\n      <th>branch</th>\n      <th>contact</th>\n    </tr>\n    <tr>\n      <th>Students</th>\n      <th></th>\n      <th></th>\n      <th></th>\n      <th></th>\n      <th></th>\n      <th></th>\n      <th></th>\n    </tr>\n  </thead>\n  <tbody>\n    <tr>\n      <th>0</th>\n      <td>1</td>\n      <td>Tejas</td>\n      <td>BE</td>\n      <td>3</td>\n      <td>5</td>\n      <td>ECE</td>\n      <td>93980169981</td>\n    </tr>\n    <tr>\n      <th>1</th>\n      <td>2</td>\n      <td>Naveen</td>\n      <td>BE</td>\n      <td>3</td>\n      <td>5</td>\n      <td>ECE</td>\n      <td>8277438279</td>\n    </tr>\n    <tr>\n      <th>2</th>\n      <td>3</td>\n      <td>Anupam</td>\n      <td>BE</td>\n      <td>3</td>\n      <td>5</td>\n      <td>MEC</td>\n      <td>7875797412</td>\n    </tr>\n    <tr>\n      <th>3</th>\n      <td>4</td>\n      <td>Krish</td>\n      <td>BE</td>\n      <td>3</td>\n      <td>5</td>\n      <td>MEC</td>\n      <td>6532789241</td>\n    </tr>\n  </tbody>\n</table>\n</div>"
     },
     "metadata": {},
     "execution_count": 5
    }
   ],
   "source": [
    "data"
   ]
  },
  {
   "cell_type": "code",
   "execution_count": 6,
   "metadata": {},
   "outputs": [
    {
     "output_type": "execute_result",
     "data": {
      "text/plain": [
       "USN\n",
       "1     Tejas\n",
       "2    Naveen\n",
       "3    Anupam\n",
       "4     Krish\n",
       "Name: Name, dtype: object"
      ]
     },
     "metadata": {},
     "execution_count": 6
    }
   ],
   "source": [
    "data.groupby(\"USN\").Name.min()"
   ]
  },
  {
   "cell_type": "code",
   "execution_count": 7,
   "metadata": {},
   "outputs": [
    {
     "output_type": "stream",
     "name": "stdout",
     "text": [
      "249\n247\n247\n"
     ]
    }
   ],
   "source": [
    "import pytz\n",
    "country_name = []\n",
    "country_full_names = []\n",
    "timezones = []\n",
    "for k,v in pytz.country_timezones.items():\n",
    "    if k in country_name or v in timezones:\n",
    "        continue\n",
    "    country_name.append(k)\n",
    "    timezones.append(v)\n",
    "for k,v in pytz.country_names.items():\n",
    "    country_full_names.append(v)\n",
    "print(len(country_full_names))\n",
    "print(len(timezones))\n",
    "country_full_names.remove('Britain (UK)')\n",
    "country_full_names.remove('Micronesia')\n",
    "print(len(country_full_names))\n"
   ]
  },
  {
   "cell_type": "code",
   "execution_count": 37,
   "metadata": {},
   "outputs": [
    {
     "output_type": "execute_result",
     "data": {
      "text/plain": [
       "            country_name              timezones\n",
       "AD               Andorra       [Europe/Andorra]\n",
       "AE  United Arab Emirates           [Asia/Dubai]\n",
       "AF           Afghanistan           [Asia/Kabul]\n",
       "AG     Antigua & Barbuda      [America/Antigua]\n",
       "AI              Anguilla     [America/Anguilla]\n",
       "..                   ...                    ...\n",
       "YE                 Yemen            [Asia/Aden]\n",
       "YT               Mayotte       [Indian/Mayotte]\n",
       "ZA          South Africa  [Africa/Johannesburg]\n",
       "ZM                Zambia        [Africa/Lusaka]\n",
       "ZW              Zimbabwe        [Africa/Harare]\n",
       "\n",
       "[247 rows x 2 columns]"
      ],
      "text/html": "<div>\n<style scoped>\n    .dataframe tbody tr th:only-of-type {\n        vertical-align: middle;\n    }\n\n    .dataframe tbody tr th {\n        vertical-align: top;\n    }\n\n    .dataframe thead th {\n        text-align: right;\n    }\n</style>\n<table border=\"1\" class=\"dataframe\">\n  <thead>\n    <tr style=\"text-align: right;\">\n      <th></th>\n      <th>country_name</th>\n      <th>timezones</th>\n    </tr>\n  </thead>\n  <tbody>\n    <tr>\n      <th>AD</th>\n      <td>Andorra</td>\n      <td>[Europe/Andorra]</td>\n    </tr>\n    <tr>\n      <th>AE</th>\n      <td>United Arab Emirates</td>\n      <td>[Asia/Dubai]</td>\n    </tr>\n    <tr>\n      <th>AF</th>\n      <td>Afghanistan</td>\n      <td>[Asia/Kabul]</td>\n    </tr>\n    <tr>\n      <th>AG</th>\n      <td>Antigua &amp; Barbuda</td>\n      <td>[America/Antigua]</td>\n    </tr>\n    <tr>\n      <th>AI</th>\n      <td>Anguilla</td>\n      <td>[America/Anguilla]</td>\n    </tr>\n    <tr>\n      <th>...</th>\n      <td>...</td>\n      <td>...</td>\n    </tr>\n    <tr>\n      <th>YE</th>\n      <td>Yemen</td>\n      <td>[Asia/Aden]</td>\n    </tr>\n    <tr>\n      <th>YT</th>\n      <td>Mayotte</td>\n      <td>[Indian/Mayotte]</td>\n    </tr>\n    <tr>\n      <th>ZA</th>\n      <td>South Africa</td>\n      <td>[Africa/Johannesburg]</td>\n    </tr>\n    <tr>\n      <th>ZM</th>\n      <td>Zambia</td>\n      <td>[Africa/Lusaka]</td>\n    </tr>\n    <tr>\n      <th>ZW</th>\n      <td>Zimbabwe</td>\n      <td>[Africa/Harare]</td>\n    </tr>\n  </tbody>\n</table>\n<p>247 rows × 2 columns</p>\n</div>"
     },
     "metadata": {},
     "execution_count": 37
    }
   ],
   "source": [
    "data = pd.DataFrame({'country_name':country_full_names,'timezones':timezones}, index=country_name)\n",
    "data"
   ]
  },
  {
   "cell_type": "code",
   "execution_count": 41,
   "metadata": {},
   "outputs": [
    {
     "output_type": "execute_result",
     "data": {
      "text/plain": [
       "                     country_name              timezones\n",
       "short_codes                                             \n",
       "AD                        Andorra       [Europe/Andorra]\n",
       "AE           United Arab Emirates           [Asia/Dubai]\n",
       "AF                    Afghanistan           [Asia/Kabul]\n",
       "AG              Antigua & Barbuda      [America/Antigua]\n",
       "AI                       Anguilla     [America/Anguilla]\n",
       "...                           ...                    ...\n",
       "YE                          Yemen            [Asia/Aden]\n",
       "YT                        Mayotte       [Indian/Mayotte]\n",
       "ZA                   South Africa  [Africa/Johannesburg]\n",
       "ZM                         Zambia        [Africa/Lusaka]\n",
       "ZW                       Zimbabwe        [Africa/Harare]\n",
       "\n",
       "[247 rows x 2 columns]"
      ],
      "text/html": "<div>\n<style scoped>\n    .dataframe tbody tr th:only-of-type {\n        vertical-align: middle;\n    }\n\n    .dataframe tbody tr th {\n        vertical-align: top;\n    }\n\n    .dataframe thead th {\n        text-align: right;\n    }\n</style>\n<table border=\"1\" class=\"dataframe\">\n  <thead>\n    <tr style=\"text-align: right;\">\n      <th></th>\n      <th>country_name</th>\n      <th>timezones</th>\n    </tr>\n    <tr>\n      <th>short_codes</th>\n      <th></th>\n      <th></th>\n    </tr>\n  </thead>\n  <tbody>\n    <tr>\n      <th>AD</th>\n      <td>Andorra</td>\n      <td>[Europe/Andorra]</td>\n    </tr>\n    <tr>\n      <th>AE</th>\n      <td>United Arab Emirates</td>\n      <td>[Asia/Dubai]</td>\n    </tr>\n    <tr>\n      <th>AF</th>\n      <td>Afghanistan</td>\n      <td>[Asia/Kabul]</td>\n    </tr>\n    <tr>\n      <th>AG</th>\n      <td>Antigua &amp; Barbuda</td>\n      <td>[America/Antigua]</td>\n    </tr>\n    <tr>\n      <th>AI</th>\n      <td>Anguilla</td>\n      <td>[America/Anguilla]</td>\n    </tr>\n    <tr>\n      <th>...</th>\n      <td>...</td>\n      <td>...</td>\n    </tr>\n    <tr>\n      <th>YE</th>\n      <td>Yemen</td>\n      <td>[Asia/Aden]</td>\n    </tr>\n    <tr>\n      <th>YT</th>\n      <td>Mayotte</td>\n      <td>[Indian/Mayotte]</td>\n    </tr>\n    <tr>\n      <th>ZA</th>\n      <td>South Africa</td>\n      <td>[Africa/Johannesburg]</td>\n    </tr>\n    <tr>\n      <th>ZM</th>\n      <td>Zambia</td>\n      <td>[Africa/Lusaka]</td>\n    </tr>\n    <tr>\n      <th>ZW</th>\n      <td>Zimbabwe</td>\n      <td>[Africa/Harare]</td>\n    </tr>\n  </tbody>\n</table>\n<p>247 rows × 2 columns</p>\n</div>"
     },
     "metadata": {},
     "execution_count": 41
    }
   ],
   "source": [
    "data = data.rename_axis('short_codes',axis='rows')\n",
    "data"
   ]
  },
  {
   "cell_type": "code",
   "execution_count": 42,
   "metadata": {},
   "outputs": [],
   "source": [
    "data.to_csv('timezones.csv')"
   ]
  },
  {
   "cell_type": "code",
   "execution_count": 16,
   "metadata": {},
   "outputs": [],
   "source": [
    "database = pd.read_csv('id,name,email,files,file_data.csv', index_col=0)"
   ]
  },
  {
   "cell_type": "code",
   "execution_count": 17,
   "metadata": {},
   "outputs": [
    {
     "output_type": "execute_result",
     "data": {
      "text/plain": [
       "          name                       email  \\\n",
       "id                                           \n",
       "1        Tejas  tejasnandam88614@gmail.com   \n",
       "2       Nandam   nandamtejas1306@gmail.com   \n",
       "3      Riposte           Riposte@gmail.com   \n",
       "4   Riposte 2            Riposte@gmail.com   \n",
       "\n",
       "                                       files  \\\n",
       "id                                             \n",
       "1              WIN_20200117_22_42_19_Pro.jpg   \n",
       "2   NANDAM TEJAS 1MV18EC057 NEFT receipt.pdf   \n",
       "3                     RIPOSTE DANCE CREW.mp4   \n",
       "4                        TRIM_TIPTIP_BMC.mp4   \n",
       "\n",
       "                                            file_data  \n",
       "id                                                     \n",
       "1                                                ����  \n",
       "2   %PDF-1.6\\r\\n%����\\r\\n8 0 obj\\r\\n<</Linearized ...  \n",
       "3                                                 NaN  \n",
       "4                                                 NaN  "
      ],
      "text/html": "<div>\n<style scoped>\n    .dataframe tbody tr th:only-of-type {\n        vertical-align: middle;\n    }\n\n    .dataframe tbody tr th {\n        vertical-align: top;\n    }\n\n    .dataframe thead th {\n        text-align: right;\n    }\n</style>\n<table border=\"1\" class=\"dataframe\">\n  <thead>\n    <tr style=\"text-align: right;\">\n      <th></th>\n      <th>name</th>\n      <th>email</th>\n      <th>files</th>\n      <th>file_data</th>\n    </tr>\n    <tr>\n      <th>id</th>\n      <th></th>\n      <th></th>\n      <th></th>\n      <th></th>\n    </tr>\n  </thead>\n  <tbody>\n    <tr>\n      <th>1</th>\n      <td>Tejas</td>\n      <td>tejasnandam88614@gmail.com</td>\n      <td>WIN_20200117_22_42_19_Pro.jpg</td>\n      <td>����</td>\n    </tr>\n    <tr>\n      <th>2</th>\n      <td>Nandam</td>\n      <td>nandamtejas1306@gmail.com</td>\n      <td>NANDAM TEJAS 1MV18EC057 NEFT receipt.pdf</td>\n      <td>%PDF-1.6\\r\\n%����\\r\\n8 0 obj\\r\\n&lt;&lt;/Linearized ...</td>\n    </tr>\n    <tr>\n      <th>3</th>\n      <td>Riposte</td>\n      <td>Riposte@gmail.com</td>\n      <td>RIPOSTE DANCE CREW.mp4</td>\n      <td>NaN</td>\n    </tr>\n    <tr>\n      <th>4</th>\n      <td>Riposte 2</td>\n      <td>Riposte@gmail.com</td>\n      <td>TRIM_TIPTIP_BMC.mp4</td>\n      <td>NaN</td>\n    </tr>\n  </tbody>\n</table>\n</div>"
     },
     "metadata": {},
     "execution_count": 17
    }
   ],
   "source": [
    "database.head()\n"
   ]
  },
  {
   "cell_type": "code",
   "execution_count": 50,
   "metadata": {},
   "outputs": [
    {
     "output_type": "execute_result",
     "data": {
      "text/plain": [
       "            len                         min                         max\n",
       "name                                                                   \n",
       "Nandam        1   nandamtejas1306@gmail.com   nandamtejas1306@gmail.com\n",
       "Riposte       1           Riposte@gmail.com           Riposte@gmail.com\n",
       "Riposte 2     1           Riposte@gmail.com           Riposte@gmail.com\n",
       "Tejas         1  tejasnandam88614@gmail.com  tejasnandam88614@gmail.com"
      ],
      "text/html": "<div>\n<style scoped>\n    .dataframe tbody tr th:only-of-type {\n        vertical-align: middle;\n    }\n\n    .dataframe tbody tr th {\n        vertical-align: top;\n    }\n\n    .dataframe thead th {\n        text-align: right;\n    }\n</style>\n<table border=\"1\" class=\"dataframe\">\n  <thead>\n    <tr style=\"text-align: right;\">\n      <th></th>\n      <th>len</th>\n      <th>min</th>\n      <th>max</th>\n    </tr>\n    <tr>\n      <th>name</th>\n      <th></th>\n      <th></th>\n      <th></th>\n    </tr>\n  </thead>\n  <tbody>\n    <tr>\n      <th>Nandam</th>\n      <td>1</td>\n      <td>nandamtejas1306@gmail.com</td>\n      <td>nandamtejas1306@gmail.com</td>\n    </tr>\n    <tr>\n      <th>Riposte</th>\n      <td>1</td>\n      <td>Riposte@gmail.com</td>\n      <td>Riposte@gmail.com</td>\n    </tr>\n    <tr>\n      <th>Riposte 2</th>\n      <td>1</td>\n      <td>Riposte@gmail.com</td>\n      <td>Riposte@gmail.com</td>\n    </tr>\n    <tr>\n      <th>Tejas</th>\n      <td>1</td>\n      <td>tejasnandam88614@gmail.com</td>\n      <td>tejasnandam88614@gmail.com</td>\n    </tr>\n  </tbody>\n</table>\n</div>"
     },
     "metadata": {},
     "execution_count": 50
    }
   ],
   "source": [
    "database.groupby('name').email.agg([len,min,max])"
   ]
  }
 ]
}